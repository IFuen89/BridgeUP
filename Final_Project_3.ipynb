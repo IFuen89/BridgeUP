{
 "cells": [
  {
   "cell_type": "markdown",
   "metadata": {},
   "source": [
    "Open library:"
   ]
  },
  {
   "cell_type": "code",
   "execution_count": 4,
   "metadata": {},
   "outputs": [],
   "source": [
    "import matplotlib.pyplot as plt"
   ]
  },
  {
   "cell_type": "markdown",
   "metadata": {},
   "source": [
    "Open Files:"
   ]
  },
  {
   "cell_type": "code",
   "execution_count": 5,
   "metadata": {},
   "outputs": [],
   "source": [
    "Whale = open(\"1a_CSN2_DNA.txt\").read()\n",
    "Hippo = open(\"1b_CSN2_DNA.txt\").read()\n",
    "Boar = open(\"1c_CSN2_DNA.txt\").read()"
   ]
  },
  {
   "cell_type": "code",
   "execution_count": 6,
   "metadata": {},
   "outputs": [],
   "source": [
    "def Hi(item):\n",
    "    c = 0\n",
    "    for i in item:\n",
    "        c += 1\n",
    "    return c"
   ]
  },
  {
   "cell_type": "markdown",
   "metadata": {},
   "source": [
    "RNA SEQUENCE:"
   ]
  },
  {
   "cell_type": "code",
   "execution_count": 7,
   "metadata": {},
   "outputs": [
    {
     "name": "stdout",
     "output_type": "stream",
     "text": [
      "UUAGGGGUUUCGAUUCCUCUGAUAGGAAGGAUUCGUAUUUCUUUACGGGAAGGGAUAUAGAGGUCAUCUGGGGAAAUAACUUUCGGUCUCGGACGGAGAGUGACUAGAACUUUUAGACGUGGAAGGAGACAGAGACGAGGUCAGGAACUACGUGGUCGGAGGGGUCGGAGAAGGAGGAUGGGGGUACAAAGGAGGAGUCGGGGACGGCAGGGAAAGAGUCGGGUUUCAGGACGGAUAAGGGGUCGUUCACCACGGGGUGUAGGUCUCUGUAUACGGGUAGGU\n"
     ]
    }
   ],
   "source": [
    "RNA_1 = \"\"\n",
    "for i in Whale:\n",
    "    if i == \"A\":\n",
    "        RNA_1 += \"U\"\n",
    "    elif i == \"T\":\n",
    "        RNA_1 += \"A\"\n",
    "    elif i == \"G\":\n",
    "        RNA_1 += \"C\"\n",
    "    else:\n",
    "        RNA_1 += \"G\"\n",
    "print(RNA_1)"
   ]
  },
  {
   "cell_type": "code",
   "execution_count": 8,
   "metadata": {},
   "outputs": [
    {
     "name": "stdout",
     "output_type": "stream",
     "text": [
      "UCAGGGGUUUCGUUUCCUCUGAUAGGAAGGAUUCGUAUUUCUUUACGGGAAGAGAUUUAGAGGUCAUCUCGGGAAAUGACUUUCCGUCUCGGACUGAGAAUGACUAGAACUUUUAGACGUGGAAGGGGACGGAGACGAAGUCAGGACCUACGUGGGUGGAAGGGUCGGAGAAAGAGGAUGGGAGUACAAAGGAAGAGUCGGGAACGUCAGGGAAGGUGUCGGGCAAAGAGUCGGGGUUCGGGACGGAUAAGGGGUCGUUCACCAUGGGAUGGGUGUCUCUCU\n"
     ]
    }
   ],
   "source": [
    "RNA_2 = \"\"\n",
    "for i in Hippo:\n",
    "    if i == \"A\":\n",
    "        RNA_2 += \"U\"\n",
    "    elif i == \"T\":\n",
    "        RNA_2 += \"A\"\n",
    "    elif i == \"G\":\n",
    "        RNA_2 += \"C\"\n",
    "    else:\n",
    "        RNA_2 += \"G\"\n",
    "print(RNA_2)"
   ]
  },
  {
   "cell_type": "code",
   "execution_count": 9,
   "metadata": {},
   "outputs": [
    {
     "name": "stdout",
     "output_type": "stream",
     "text": [
      "UCAGGGGUUUAACAGGUUUUAAAUUAACCCGUAUAAAGUUAUUGUUUCCGUUGAUUAUAUUAUCACGUGUUCGUUAUAGAAACUUACCCGUGAAGUGGUUUCUCCAAUAAAAUUAACAGUUAUUUAUAUACUUUUCUACAAGUUAUGGUAAUAAAGAGACCUUUUACGUUCAAUUUUUAUGGUCUAUAGUACUGUGUUGGAGGUCUUAUCGACUUUACUCUUCUUAACCAUUUUGGUUCAUAAAUGUUUUUAUUCGUUUGACUUAUUUACGAUCCAUUACAA\n"
     ]
    }
   ],
   "source": [
    "RNA_3 = \"\"\n",
    "for i in Boar:\n",
    "    if i == \"A\":\n",
    "        RNA_3 += \"U\"\n",
    "    elif i == \"T\":\n",
    "        RNA_3 += \"A\"\n",
    "    elif i == \"G\":\n",
    "        RNA_3 += \"C\"\n",
    "    else:\n",
    "        RNA_3 += \"G\"\n",
    "print(RNA_3)"
   ]
  },
  {
   "cell_type": "markdown",
   "metadata": {},
   "source": [
    "Protein"
   ]
  },
  {
   "cell_type": "code",
   "execution_count": 10,
   "metadata": {},
   "outputs": [],
   "source": [
    "aminoDict = {\"UUU\":\"F\",\"UUC\":\"F\",\"UUA\":\"L\",\"UUG\":\"L\", \"CUU\":\"L\",\"CUC\":\"L\", \n",
    "             \"CUA\":\"L\",\"CUG\":\"L\",\"AUU\":\"I\",\"AUC\":\"I\",\"AUA\":\"I\",\"AUG\":\"M\",\n",
    "             \"GUU\":\"V\",\"GUC\":\"V\",\"GUA\":\"V\",\"GUG\":\"V\",\"UCU\":\"S\",\"UCC\":\"S\",\n",
    "             \"UCA\":\"S\",\"UCG\":\"S\",\"CCU\":\"P\",\"CCC\":\"P\",\"CCA\":\"P\",\"CCG\":\"P\",\n",
    "             \"ACU\":\"T\",\"ACC\":\"T\",\"ACA\":\"T\",\"ACG\":\"T\",\"GCU\":\"A\",\"GCC\":\"A\",\n",
    "             \"GCA\":\"A\",\"GCG\":\"A\",\"UAU\":\"Y\",\"UAC\":\"Y\",\"UAA\":\"STOP\",\"UAG\":\"STOP\",\n",
    "             \"UGA\":\"STOP\",\"CAU\":\"H\",\"CAC\":\"H\",\"CAA\":\"Q\",\"CAG\":\"Q\",\"AAU\":\"N\",\n",
    "             \"AAC\":\"N\",\"AAA\":\"K\",\"AAG\":\"K\",\"GAU\":\"D\",\"GAC\":\"D\",\"GAA\":\"E\",\n",
    "             \"GAG\":\"E\",\"UGU\":\"C\",\"UGC\":\"C\",\"UGG\":\"W\",\"CGU\":\"R\",\"CGC\":\"R\",\n",
    "             \"CGA\":\"R\",\"CGG\":\"R\",\"AGU\":\"S\",\"AGC\":\"S\",\"AGA\":\"R\",\"AGG\":\"R\",\n",
    "             \"GGU\":\"G\",\"GGC\":\"G\",\"GGA\":\"G\",\"GGG\":\"G\"}"
   ]
  },
  {
   "cell_type": "code",
   "execution_count": 11,
   "metadata": {},
   "outputs": [
    {
     "name": "stdout",
     "output_type": "stream",
     "text": [
      "LGVSIPLIGRIRISLREGISTOPRSSGEITFGLGRRVTRTFRRGRRQRRGQELRGRRGRRRRMGVQRRSRGRQGKSRVSGRIRGRSPRGVGLCIRVG\n"
     ]
    }
   ],
   "source": [
    "protein_1 = \"\"\n",
    "codon_1 = \"\"\n",
    "\n",
    "for i in RNA_1:\n",
    "    if Hi(codon_1) != 3:\n",
    "        codon_1 += i\n",
    "    if Hi(codon_1) == 3:\n",
    "        protein_1 += aminoDict[codon_1]\n",
    "        codon_1 = \"\"\n",
    "\n",
    "print(protein_1)"
   ]
  },
  {
   "cell_type": "code",
   "execution_count": 12,
   "metadata": {},
   "outputs": [
    {
     "name": "stdout",
     "output_type": "stream",
     "text": [
      "SGVSFPLIGRIRISLREEISTOPRSSREMTFRLGLRMTRTFRRGRGRRRSQDLRGWKGRRKRMGVQRKSRERQGRCRAKSRGSGRIRGRSPWDGCLS\n"
     ]
    }
   ],
   "source": [
    "protein_2 = \"\"\n",
    "codon_2 = \"\"\n",
    "\n",
    "for i in RNA_2:\n",
    "    if Hi(codon_2) != 3:\n",
    "        codon_2 += i\n",
    "    if Hi(codon_2) == 3:\n",
    "        protein_2 += aminoDict[codon_2]\n",
    "        codon_2 = \"\"\n",
    "\n",
    "print(protein_2)"
   ]
  },
  {
   "cell_type": "code",
   "execution_count": 13,
   "metadata": {},
   "outputs": [
    {
     "name": "stdout",
     "output_type": "stream",
     "text": [
      "SGVSTOPQVLNSTOPPVSTOPSYCFRSTOPLYYHVFVIETYPSTOPSGFSNKINSYLYTFLQVMVIKRPFTFNFYGLSTOPYCVGGLIDFTLLNHFGSSTOPMFLFVSTOPLIYDPLQ\n"
     ]
    }
   ],
   "source": [
    "protein_3 = \"\"\n",
    "codon_3 = \"\"\n",
    "\n",
    "for i in RNA_3:\n",
    "    if len(codon_3) != 3:\n",
    "        codon_3 += i\n",
    "    if len(codon_3) == 3:\n",
    "        protein_3 += aminoDict[codon_3]\n",
    "        codon_3 = \"\"\n",
    "\n",
    "print(protein_3)"
   ]
  },
  {
   "cell_type": "markdown",
   "metadata": {},
   "source": [
    "DIffrence in protein"
   ]
  },
  {
   "cell_type": "code",
   "execution_count": 14,
   "metadata": {},
   "outputs": [
    {
     "name": "stdout",
     "output_type": "stream",
     "text": [
      "36\n"
     ]
    }
   ],
   "source": [
    "Diff_1 = 0 #Whale and Hippo\n",
    "for c,i in enumerate(protein_1):\n",
    "    if i != protein_2[c]:\n",
    "        Diff_1 += 1\n",
    "print(Diff_1)"
   ]
  },
  {
   "cell_type": "code",
   "execution_count": 15,
   "metadata": {},
   "outputs": [
    {
     "name": "stdout",
     "output_type": "stream",
     "text": [
      "88\n"
     ]
    }
   ],
   "source": [
    "Diff_2 = 0 #Whale and Boar\n",
    "for c,i in enumerate(protein_1):\n",
    "    if i != protein_3[c]:\n",
    "        Diff_2 += 1\n",
    "print(Diff_2)"
   ]
  },
  {
   "cell_type": "code",
   "execution_count": 16,
   "metadata": {},
   "outputs": [
    {
     "name": "stdout",
     "output_type": "stream",
     "text": [
      "90\n"
     ]
    }
   ],
   "source": [
    "Diff_3 = 0 #Hippo and Boar\n",
    "for c,i in enumerate(protein_2):\n",
    "    if i != protein_3[c]:\n",
    "        Diff_3 += 1\n",
    "print(Diff_3)"
   ]
  },
  {
   "cell_type": "markdown",
   "metadata": {},
   "source": [
    "DNA diffrences"
   ]
  },
  {
   "cell_type": "code",
   "execution_count": 17,
   "metadata": {},
   "outputs": [
    {
     "name": "stdout",
     "output_type": "stream",
     "text": [
      "66\n"
     ]
    }
   ],
   "source": [
    "DNA_1 = 0\n",
    "\n",
    "for c,i in enumerate(Whale):\n",
    "    if i != Hippo[c]:\n",
    "        DNA_1 += 1\n",
    "print(DNA_1)"
   ]
  },
  {
   "cell_type": "code",
   "execution_count": 18,
   "metadata": {},
   "outputs": [
    {
     "name": "stdout",
     "output_type": "stream",
     "text": [
      "204\n"
     ]
    }
   ],
   "source": [
    "DNA_2 = 0\n",
    "for c,i in enumerate(Whale):\n",
    "    if i != Boar[c]:\n",
    "        DNA_2 += 1\n",
    "print(DNA_2)"
   ]
  },
  {
   "cell_type": "code",
   "execution_count": 19,
   "metadata": {},
   "outputs": [
    {
     "name": "stdout",
     "output_type": "stream",
     "text": [
      "202\n"
     ]
    }
   ],
   "source": [
    "DNA_3 = 0\n",
    "\n",
    "for c,i in enumerate(Hippo):\n",
    "    if i != Boar[c]:\n",
    "        DNA_3 += 1\n",
    "print(DNA_3)"
   ]
  },
  {
   "cell_type": "markdown",
   "metadata": {},
   "source": [
    "Percent %"
   ]
  },
  {
   "cell_type": "code",
   "execution_count": 29,
   "metadata": {},
   "outputs": [
    {
     "name": "stdout",
     "output_type": "stream",
     "text": [
      "23.404255319148938\n"
     ]
    }
   ],
   "source": [
    "# There is a 23% difference between whale and Hippo\n",
    "W_H = (DNA_1/len(Whale)*100)\n",
    "print(W_H)"
   ]
  },
  {
   "cell_type": "code",
   "execution_count": 30,
   "metadata": {},
   "outputs": [
    {
     "name": "stdout",
     "output_type": "stream",
     "text": [
      "72.3404255319149\n"
     ]
    }
   ],
   "source": [
    "#There is a 72% difference between Whale and Boar\n",
    "W_B = (DNA_2/len(Whale)*100)\n",
    "print(W_B)"
   ]
  },
  {
   "cell_type": "code",
   "execution_count": 31,
   "metadata": {},
   "outputs": [
    {
     "name": "stdout",
     "output_type": "stream",
     "text": [
      "71.63120567375887\n"
     ]
    }
   ],
   "source": [
    "#There is a 72% diffrence between Hippo and Boar \n",
    "H_B = (DNA_3/len(Hippo)*100)\n",
    "print(H_B)"
   ]
  },
  {
   "cell_type": "code",
   "execution_count": 28,
   "metadata": {},
   "outputs": [
    {
     "data": {
      "image/png": "[encoded data removed]",
      "text/plain": [
       "<Figure size 432x288 with 1 Axes>"
      ]
     },
     "metadata": {
      "needs_background": "light"
     },
     "output_type": "display_data"
    }
   ],
   "source": [
    "plt.bar([1], [W_H], color = \"lightcoral\", label = \"23%\")\n",
    "plt.bar([2], [W_B], color = \"mediumaquamarine\", label = \"72%\")\n",
    "plt.bar([3], [H_B], color = \"royalblue\", label = \"71.6 %\")\n",
    "plt.xticks([1,2,3], [\"Whale and Hippo\", \"Whale and Boar\", \"Hippo and Boar\"])\n",
    "plt.title(\"Differences in DNA Percentage\")\n",
    "plt.legend()\n",
    "plt.show()"
   ]
  }
 ],
 "metadata": {
  "kernelspec": {
   "display_name": "Python 3",
   "language": "python",
   "name": "python3"
  },
  "language_info": {
   "codemirror_mode": {
    "name": "ipython",
    "version": 3
   },
   "file_extension": ".py",
   "mimetype": "text/x-python",
   "name": "python",
   "nbconvert_exporter": "python",
   "pygments_lexer": "ipython3",
   "version": "3.7.3"
  }
 },
 "nbformat": 4,
 "nbformat_minor": 2
}
